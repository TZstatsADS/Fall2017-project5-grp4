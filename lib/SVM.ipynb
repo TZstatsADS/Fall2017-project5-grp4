{
 "cells": [
  {
   "cell_type": "markdown",
   "metadata": {
    "collapsed": true
   },
   "source": [
    "## SVM on 10 different classes audios:"
   ]
  },
  {
   "cell_type": "markdown",
   "metadata": {},
   "source": [
    "###### Name: Qian Shi (qs2164)"
   ]
  },
  {
   "cell_type": "code",
   "execution_count": 1,
   "metadata": {
    "collapsed": true
   },
   "outputs": [],
   "source": [
    "import numpy as np\n",
    "import pandas as pd\n",
    "from sklearn import svm\n",
    "from sklearn.model_selection import train_test_split, cross_val_score\n",
    "from sklearn.metrics import accuracy_score\n",
    "import matplotlib.pyplot as plt\n",
    "from datetime import datetime"
   ]
  },
  {
   "cell_type": "markdown",
   "metadata": {},
   "source": [
    "#### Load train and test data:"
   ]
  },
  {
   "cell_type": "code",
   "execution_count": 2,
   "metadata": {
    "collapsed": true
   },
   "outputs": [],
   "source": [
    "train_featu = pd.read_csv(\"x_train.csv\")\n",
    "train_label = pd.read_csv(\"y_train.csv\")\n",
    "train_label = np.array(train_label).reshape(len(train_label), )\n",
    "\n",
    "test_featu = pd.read_csv(\"x_test.csv\")\n",
    "test_label = pd.read_csv(\"y_test.csv\")\n",
    "test_label = np.array(test_label).reshape(len(test_label), )"
   ]
  },
  {
   "cell_type": "code",
   "execution_count": 3,
   "metadata": {},
   "outputs": [
    {
     "name": "stdout",
     "output_type": "stream",
     "text": [
      "(771, 193)\n",
      "(771,)\n"
     ]
    }
   ],
   "source": [
    "print(train_featu.shape)\n",
    "print(train_label.shape)"
   ]
  },
  {
   "cell_type": "code",
   "execution_count": 4,
   "metadata": {},
   "outputs": [
    {
     "data": {
      "text/html": [
       "<div>\n",
       "<style scoped>\n",
       "    .dataframe tbody tr th:only-of-type {\n",
       "        vertical-align: middle;\n",
       "    }\n",
       "\n",
       "    .dataframe tbody tr th {\n",
       "        vertical-align: top;\n",
       "    }\n",
       "\n",
       "    .dataframe thead th {\n",
       "        text-align: right;\n",
       "    }\n",
       "</style>\n",
       "<table border=\"1\" class=\"dataframe\">\n",
       "  <thead>\n",
       "    <tr style=\"text-align: right;\">\n",
       "      <th></th>\n",
       "      <th>0</th>\n",
       "      <th>1</th>\n",
       "      <th>2</th>\n",
       "      <th>3</th>\n",
       "      <th>4</th>\n",
       "      <th>5</th>\n",
       "      <th>6</th>\n",
       "      <th>7</th>\n",
       "      <th>8</th>\n",
       "      <th>9</th>\n",
       "      <th>...</th>\n",
       "      <th>183</th>\n",
       "      <th>184</th>\n",
       "      <th>185</th>\n",
       "      <th>186</th>\n",
       "      <th>187</th>\n",
       "      <th>188</th>\n",
       "      <th>189</th>\n",
       "      <th>190</th>\n",
       "      <th>191</th>\n",
       "      <th>192</th>\n",
       "    </tr>\n",
       "  </thead>\n",
       "  <tbody>\n",
       "    <tr>\n",
       "      <th>0</th>\n",
       "      <td>-202.558343</td>\n",
       "      <td>154.413094</td>\n",
       "      <td>6.078960</td>\n",
       "      <td>18.352162</td>\n",
       "      <td>16.465381</td>\n",
       "      <td>30.480092</td>\n",
       "      <td>14.401530</td>\n",
       "      <td>20.897098</td>\n",
       "      <td>18.563433</td>\n",
       "      <td>14.471047</td>\n",
       "      <td>...</td>\n",
       "      <td>14.456826</td>\n",
       "      <td>17.973174</td>\n",
       "      <td>16.108079</td>\n",
       "      <td>31.297310</td>\n",
       "      <td>-0.002555</td>\n",
       "      <td>0.028054</td>\n",
       "      <td>-0.027136</td>\n",
       "      <td>-0.030276</td>\n",
       "      <td>0.006397</td>\n",
       "      <td>-0.004940</td>\n",
       "    </tr>\n",
       "    <tr>\n",
       "      <th>1</th>\n",
       "      <td>-213.265368</td>\n",
       "      <td>1.988407</td>\n",
       "      <td>-48.650124</td>\n",
       "      <td>23.510965</td>\n",
       "      <td>-7.462684</td>\n",
       "      <td>-3.799209</td>\n",
       "      <td>5.567173</td>\n",
       "      <td>12.748297</td>\n",
       "      <td>-14.672990</td>\n",
       "      <td>7.856349</td>\n",
       "      <td>...</td>\n",
       "      <td>17.171133</td>\n",
       "      <td>15.628158</td>\n",
       "      <td>17.827012</td>\n",
       "      <td>34.033792</td>\n",
       "      <td>0.001401</td>\n",
       "      <td>-0.017233</td>\n",
       "      <td>0.056397</td>\n",
       "      <td>-0.035151</td>\n",
       "      <td>-0.011821</td>\n",
       "      <td>-0.013359</td>\n",
       "    </tr>\n",
       "    <tr>\n",
       "      <th>2</th>\n",
       "      <td>-380.329943</td>\n",
       "      <td>73.198542</td>\n",
       "      <td>-39.966194</td>\n",
       "      <td>-20.987511</td>\n",
       "      <td>-4.460595</td>\n",
       "      <td>16.925125</td>\n",
       "      <td>22.688621</td>\n",
       "      <td>18.093317</td>\n",
       "      <td>-1.461838</td>\n",
       "      <td>6.899186</td>\n",
       "      <td>...</td>\n",
       "      <td>17.288543</td>\n",
       "      <td>20.172915</td>\n",
       "      <td>20.075283</td>\n",
       "      <td>31.486941</td>\n",
       "      <td>-0.002645</td>\n",
       "      <td>0.003398</td>\n",
       "      <td>0.005168</td>\n",
       "      <td>-0.005238</td>\n",
       "      <td>-0.004769</td>\n",
       "      <td>-0.002136</td>\n",
       "    </tr>\n",
       "    <tr>\n",
       "      <th>3</th>\n",
       "      <td>-138.287496</td>\n",
       "      <td>79.448712</td>\n",
       "      <td>20.735648</td>\n",
       "      <td>13.603314</td>\n",
       "      <td>7.975345</td>\n",
       "      <td>9.764178</td>\n",
       "      <td>-5.277956</td>\n",
       "      <td>7.208292</td>\n",
       "      <td>-11.137283</td>\n",
       "      <td>9.889120</td>\n",
       "      <td>...</td>\n",
       "      <td>19.416349</td>\n",
       "      <td>22.324888</td>\n",
       "      <td>21.533164</td>\n",
       "      <td>34.027067</td>\n",
       "      <td>0.009196</td>\n",
       "      <td>-0.001665</td>\n",
       "      <td>-0.003320</td>\n",
       "      <td>-0.025083</td>\n",
       "      <td>0.008222</td>\n",
       "      <td>-0.004684</td>\n",
       "    </tr>\n",
       "    <tr>\n",
       "      <th>4</th>\n",
       "      <td>-413.884289</td>\n",
       "      <td>141.360328</td>\n",
       "      <td>18.207610</td>\n",
       "      <td>31.227967</td>\n",
       "      <td>27.038679</td>\n",
       "      <td>19.737574</td>\n",
       "      <td>12.306729</td>\n",
       "      <td>9.493894</td>\n",
       "      <td>5.746234</td>\n",
       "      <td>11.782468</td>\n",
       "      <td>...</td>\n",
       "      <td>16.754089</td>\n",
       "      <td>17.168880</td>\n",
       "      <td>16.950162</td>\n",
       "      <td>33.342208</td>\n",
       "      <td>-0.018952</td>\n",
       "      <td>-0.011458</td>\n",
       "      <td>-0.070440</td>\n",
       "      <td>0.048528</td>\n",
       "      <td>-0.018580</td>\n",
       "      <td>0.007561</td>\n",
       "    </tr>\n",
       "  </tbody>\n",
       "</table>\n",
       "<p>5 rows × 193 columns</p>\n",
       "</div>"
      ],
      "text/plain": [
       "            0           1          2          3          4          5  \\\n",
       "0 -202.558343  154.413094   6.078960  18.352162  16.465381  30.480092   \n",
       "1 -213.265368    1.988407 -48.650124  23.510965  -7.462684  -3.799209   \n",
       "2 -380.329943   73.198542 -39.966194 -20.987511  -4.460595  16.925125   \n",
       "3 -138.287496   79.448712  20.735648  13.603314   7.975345   9.764178   \n",
       "4 -413.884289  141.360328  18.207610  31.227967  27.038679  19.737574   \n",
       "\n",
       "           6          7          8          9    ...           183        184  \\\n",
       "0  14.401530  20.897098  18.563433  14.471047    ...     14.456826  17.973174   \n",
       "1   5.567173  12.748297 -14.672990   7.856349    ...     17.171133  15.628158   \n",
       "2  22.688621  18.093317  -1.461838   6.899186    ...     17.288543  20.172915   \n",
       "3  -5.277956   7.208292 -11.137283   9.889120    ...     19.416349  22.324888   \n",
       "4  12.306729   9.493894   5.746234  11.782468    ...     16.754089  17.168880   \n",
       "\n",
       "         185        186       187       188       189       190       191  \\\n",
       "0  16.108079  31.297310 -0.002555  0.028054 -0.027136 -0.030276  0.006397   \n",
       "1  17.827012  34.033792  0.001401 -0.017233  0.056397 -0.035151 -0.011821   \n",
       "2  20.075283  31.486941 -0.002645  0.003398  0.005168 -0.005238 -0.004769   \n",
       "3  21.533164  34.027067  0.009196 -0.001665 -0.003320 -0.025083  0.008222   \n",
       "4  16.950162  33.342208 -0.018952 -0.011458 -0.070440  0.048528 -0.018580   \n",
       "\n",
       "        192  \n",
       "0 -0.004940  \n",
       "1 -0.013359  \n",
       "2 -0.002136  \n",
       "3 -0.004684  \n",
       "4  0.007561  \n",
       "\n",
       "[5 rows x 193 columns]"
      ]
     },
     "execution_count": 4,
     "metadata": {},
     "output_type": "execute_result"
    }
   ],
   "source": [
    "train_featu.head(n=5)"
   ]
  },
  {
   "cell_type": "code",
   "execution_count": 5,
   "metadata": {},
   "outputs": [
    {
     "data": {
      "text/plain": [
       "array([2, 4, 8, 9, 5])"
      ]
     },
     "execution_count": 5,
     "metadata": {},
     "output_type": "execute_result"
    }
   ],
   "source": [
    "# 1: air_conditioner \n",
    "# 2: car_horn\n",
    "# 3: children_playing \n",
    "# 4: dog_bark\n",
    "# 5: drilling \n",
    "# 6: enginge_idling \n",
    "# 7: gun_shot\n",
    "# 8: jackhammer \n",
    "# 9: siren \n",
    "# 10: street_music\n",
    "train_label[0:5]"
   ]
  },
  {
   "cell_type": "markdown",
   "metadata": {},
   "source": [
    "#### Choose truning parameters:"
   ]
  },
  {
   "cell_type": "code",
   "execution_count": 6,
   "metadata": {
    "collapsed": true
   },
   "outputs": [],
   "source": [
    "tuning_paras = {'kernel': ('rbf', 'poly'),\n",
    "                'C': (1, 3, 5, 7, 15, 30, 50, 100, 300, 500, 1000),\n",
    "                'C_poly': (1, 2, 3, 4, 5, 6, 7, 9, 11, 15, 30, 50, 70, 100),\n",
    "                # 'C': (1, 2, 3, 4, 5, 6, 7, 9, 11, 15, 30, 50, 100),\n",
    "                'gamma_rbf': (0.01, 0.03, 0.05, 0.1, 0.3, 0.5, 1, 3, 5, 10, 30, 50, 100),\n",
    "                'gamma_poly': (0.01, 0.03, 0.05, 0.07, 0.09, 0.1, 0.2)}"
   ]
  },
  {
   "cell_type": "markdown",
   "metadata": {},
   "source": [
    "#### Linear SVM:"
   ]
  },
  {
   "cell_type": "code",
   "execution_count": 7,
   "metadata": {},
   "outputs": [
    {
     "name": "stdout",
     "output_type": "stream",
     "text": [
      "C = 1 finished !\n",
      "C = 3 finished !\n",
      "C = 5 finished !\n",
      "C = 7 finished !\n",
      "C = 15 finished !\n",
      "C = 30 finished !\n",
      "C = 50 finished !\n",
      "C = 100 finished !\n",
      "C = 300 finished !\n",
      "C = 500 finished !\n",
      "C = 1000 finished !\n",
      "Accuray: [[ 0.33544304  0.46753247  0.4025974   0.44444444  0.52631579]\n",
      " [ 0.41772152  0.43506494  0.42857143  0.4248366   0.32894737]\n",
      " [ 0.37341772  0.3961039   0.34415584  0.4248366   0.41447368]\n",
      " [ 0.37341772  0.48051948  0.37662338  0.35947712  0.34868421]\n",
      " [ 0.39873418  0.46753247  0.29220779  0.39869281  0.46052632]\n",
      " [ 0.40506329  0.32467532  0.42207792  0.39215686  0.50657895]\n",
      " [ 0.38607595  0.44805195  0.37012987  0.41176471  0.47368421]\n",
      " [ 0.39240506  0.42857143  0.43506494  0.37908497  0.51315789]\n",
      " [ 0.41772152  0.41558442  0.25974026  0.38562092  0.53947368]\n",
      " [ 0.44936709  0.47402597  0.3961039   0.40522876  0.35526316]\n",
      " [ 0.34177215  0.44805195  0.37662338  0.4248366   0.56578947]]\n"
     ]
    }
   ],
   "source": [
    "acu_linear = np.empty(shape=(len(tuning_paras['C']), 5))\n",
    "\n",
    "for c in range(len(tuning_paras['C'])):\n",
    "    \n",
    "    svm_linear = svm.LinearSVC(C=tuning_paras['C'][c])\n",
    "    # Cross-validation with K = 5\n",
    "    acu_linear[c] = cross_val_score(svm_linear, train_featu, train_label, cv=5)\n",
    "    \n",
    "    print(\"C =\", tuning_paras['C'][c], \"finished !\")\n",
    "    \n",
    "print(\"Accuray:\", acu_linear)    "
   ]
  },
  {
   "cell_type": "code",
   "execution_count": 8,
   "metadata": {},
   "outputs": [
    {
     "data": {
      "text/plain": [
       "array([ 0.43526663,  0.40702837,  0.39059755,  0.38774438,  0.40353871,\n",
       "        0.41011047,  0.41794134,  0.42965686,  0.40362816,  0.41599777,\n",
       "        0.43141471])"
      ]
     },
     "execution_count": 8,
     "metadata": {},
     "output_type": "execute_result"
    }
   ],
   "source": [
    "# CV accuracy\n",
    "cv_acu = np.mean(acu_linear, axis=1)\n",
    "cv_acu"
   ]
  },
  {
   "cell_type": "code",
   "execution_count": 9,
   "metadata": {},
   "outputs": [
    {
     "data": {
      "image/png": "[encoded data removed]",
      "text/plain": [
       "<matplotlib.figure.Figure at 0x1106f05f8>"
      ]
     },
     "metadata": {},
     "output_type": "display_data"
    }
   ],
   "source": [
    "plt.plot(tuning_paras['C'], np.mean(acu_linear, axis=1), 'go-', linewidth=1)\n",
    "plt.show()"
   ]
  },
  {
   "cell_type": "code",
   "execution_count": 10,
   "metadata": {},
   "outputs": [
    {
     "name": "stdout",
     "output_type": "stream",
     "text": [
      "1\n"
     ]
    }
   ],
   "source": [
    "max_ind = np.argmax(cv_acu)\n",
    "best_c = tuning_paras['C'][max_ind]\n",
    "print(best_c)"
   ]
  },
  {
   "cell_type": "code",
   "execution_count": 11,
   "metadata": {},
   "outputs": [
    {
     "name": "stdout",
     "output_type": "stream",
     "text": [
      "Time: 0:00:01.626524\n",
      "Total accuracy: 0.495468277946\n",
      "The accuracy for air_conditioner is 0.18181818181818182\n",
      "The accuracy for car_horn is 0.45714285714285713\n",
      "The accuracy for children_playing is 0.8048780487804879\n",
      "The accuracy for dog_bark is 0.35714285714285715\n",
      "The accuracy for drilling is 0.4666666666666667\n",
      "The accuracy for enginge_idling is 0.4782608695652174\n",
      "The accuracy for gun_shot is 0.4857142857142857\n",
      "The accuracy for jackhammer is 0.3333333333333333\n",
      "The accuracy for siren is 0.3333333333333333\n",
      "The accuracy for street_music is 0.7111111111111111\n"
     ]
    }
   ],
   "source": [
    "start=datetime.now()\n",
    "\n",
    "svm_linear = svm.LinearSVC(C = best_c).fit(train_featu, train_label)\n",
    "pred_label = svm_linear.predict(test_featu)\n",
    "print (\"Time:\", datetime.now() - start)\n",
    "\n",
    "total_acu = np.sum(pred_label == test_label) / len(test_label)\n",
    "print(\"Total accuracy:\", total_acu)\n",
    "\n",
    "categories = [\"air_conditioner\", \"car_horn\", \"children_playing\",\n",
    "              \"dog_bark\", \"drilling\", \"enginge_idling\",\n",
    "              \"gun_shot\", \"jackhammer\", \"siren\", \"street_music\"]\n",
    "\n",
    "for i in range(10): \n",
    "    acu = np.sum(pred_label[test_label == i] == i) / np.sum(test_label == i)\n",
    "    print(\"The accuracy for {0} is {1}\".format(categories[i], acu))\n"
   ]
  },
  {
   "cell_type": "markdown",
   "metadata": {},
   "source": [
    "#### SVM with RBF kernel:"
   ]
  },
  {
   "cell_type": "code",
   "execution_count": 12,
   "metadata": {},
   "outputs": [
    {
     "name": "stdout",
     "output_type": "stream",
     "text": [
      "C = 1 finished !\n",
      "C = 3 finished !\n",
      "C = 5 finished !\n",
      "C = 7 finished !\n",
      "C = 15 finished !\n",
      "C = 30 finished !\n",
      "C = 50 finished !\n",
      "C = 100 finished !\n",
      "C = 300 finished !\n",
      "C = 500 finished !\n",
      "C = 1000 finished !\n",
      "Accuray: [[ 0.2503232   0.2503232   0.2503232   0.24774159  0.24774159  0.24774159\n",
      "   0.24774159  0.24774159  0.24774159  0.24774159  0.24774159  0.24774159\n",
      "   0.24774159]\n",
      " [ 0.2529206   0.2503232   0.2503232   0.2503232   0.24774159  0.24774159\n",
      "   0.24774159  0.24774159  0.24774159  0.24774159  0.24774159  0.24774159\n",
      "   0.24774159]\n",
      " [ 0.2529206   0.2503232   0.2503232   0.2503232   0.24774159  0.24774159\n",
      "   0.24774159  0.24774159  0.24774159  0.24774159  0.24774159  0.24774159\n",
      "   0.24774159]\n",
      " [ 0.2529206   0.2503232   0.2503232   0.2503232   0.24774159  0.24774159\n",
      "   0.24774159  0.24774159  0.24774159  0.24774159  0.24774159  0.24774159\n",
      "   0.24774159]\n",
      " [ 0.2529206   0.2503232   0.2503232   0.2503232   0.24774159  0.24774159\n",
      "   0.24774159  0.24774159  0.24774159  0.24774159  0.24774159  0.24774159\n",
      "   0.24774159]\n",
      " [ 0.2529206   0.2503232   0.2503232   0.2503232   0.24774159  0.24774159\n",
      "   0.24774159  0.24774159  0.24774159  0.24774159  0.24774159  0.24774159\n",
      "   0.24774159]\n",
      " [ 0.2529206   0.2503232   0.2503232   0.2503232   0.24774159  0.24774159\n",
      "   0.24774159  0.24774159  0.24774159  0.24774159  0.24774159  0.24774159\n",
      "   0.24774159]\n",
      " [ 0.2529206   0.2503232   0.2503232   0.2503232   0.24774159  0.24774159\n",
      "   0.24774159  0.24774159  0.24774159  0.24774159  0.24774159  0.24774159\n",
      "   0.24774159]\n",
      " [ 0.2529206   0.2503232   0.2503232   0.2503232   0.24774159  0.24774159\n",
      "   0.24774159  0.24774159  0.24774159  0.24774159  0.24774159  0.24774159\n",
      "   0.24774159]\n",
      " [ 0.2529206   0.2503232   0.2503232   0.2503232   0.24774159  0.24774159\n",
      "   0.24774159  0.24774159  0.24774159  0.24774159  0.24774159  0.24774159\n",
      "   0.24774159]\n",
      " [ 0.2529206   0.2503232   0.2503232   0.2503232   0.24774159  0.24774159\n",
      "   0.24774159  0.24774159  0.24774159  0.24774159  0.24774159  0.24774159\n",
      "   0.24774159]]\n"
     ]
    }
   ],
   "source": [
    "acu_rbf = np.empty(shape=(len(tuning_paras['C']), len(tuning_paras['gamma_rbf'])))\n",
    "\n",
    "for c in range(len(tuning_paras['C'])):\n",
    "    \n",
    "    for g in range(len(tuning_paras['gamma_rbf'])):\n",
    "        \n",
    "        svm_rbf = svm.SVC(kernel='rbf', C=tuning_paras['C'][c], gamma=tuning_paras['gamma_rbf'][g])\n",
    "        # Cross-validation with K = 5\n",
    "        acu_rbf[c][g] = np.mean(cross_val_score(svm_rbf, train_featu, train_label, cv=5))\n",
    "    \n",
    "    print(\"C =\", tuning_paras['C'][c], \"finished !\")\n",
    "    \n",
    "print(\"Accuray:\", acu_rbf) "
   ]
  },
  {
   "cell_type": "code",
   "execution_count": 13,
   "metadata": {},
   "outputs": [
    {
     "name": "stdout",
     "output_type": "stream",
     "text": [
      "3\n",
      "0.01\n"
     ]
    }
   ],
   "source": [
    "best_c = tuning_paras['C'][np.unravel_index(acu_rbf.argmax(), acu_rbf.shape)[0]]\n",
    "best_gamma = tuning_paras['gamma_rbf'][np.unravel_index(acu_rbf.argmax(), acu_rbf.shape)[1]]\n",
    "print(best_c)\n",
    "print(best_gamma)"
   ]
  },
  {
   "cell_type": "code",
   "execution_count": 14,
   "metadata": {},
   "outputs": [
    {
     "name": "stdout",
     "output_type": "stream",
     "text": [
      "Time: 0:00:00.431110\n",
      "Total accuracy: 0.256797583082\n",
      "The accuracy for air_conditioner is 0.0\n",
      "The accuracy for car_horn is 0.0\n",
      "The accuracy for children_playing is 0.0\n",
      "The accuracy for dog_bark is 1.0\n",
      "The accuracy for drilling is 0.0\n",
      "The accuracy for enginge_idling is 0.0\n",
      "The accuracy for gun_shot is 0.02857142857142857\n",
      "The accuracy for jackhammer is 0.0\n",
      "The accuracy for siren is 0.0\n",
      "The accuracy for street_music is 0.0\n"
     ]
    }
   ],
   "source": [
    "start=datetime.now()\n",
    "\n",
    "svm_rbf = svm.SVC(kernel='rbf', C = best_c, gamma = best_gamma).fit(train_featu, train_label)\n",
    "pred_label = svm_rbf.predict(test_featu)\n",
    "print (\"Time:\", datetime.now() - start)\n",
    "\n",
    "total_acu = np.sum(pred_label == test_label) / len(test_label)\n",
    "print(\"Total accuracy:\", total_acu)\n",
    "\n",
    "categories = [\"air_conditioner\", \"car_horn\", \"children_playing\",\n",
    "              \"dog_bark\", \"drilling\", \"enginge_idling\",\n",
    "              \"gun_shot\", \"jackhammer\", \"siren\", \"street_music\"]\n",
    "\n",
    "for i in range(10): \n",
    "    acu = np.sum(pred_label[test_label == i] == i) / np.sum(test_label == i)\n",
    "    print(\"The accuracy for {0} is {1}\".format(categories[i], acu))"
   ]
  },
  {
   "cell_type": "markdown",
   "metadata": {},
   "source": [
    "#### SVM with polynomial kernel (degree = 3):"
   ]
  },
  {
   "cell_type": "code",
   "execution_count": 15,
   "metadata": {},
   "outputs": [
    {
     "name": "stdout",
     "output_type": "stream",
     "text": [
      "C = 1 finished !\n",
      "C = 2 finished !\n",
      "C = 3 finished !\n",
      "C = 4 finished !\n",
      "C = 5 finished !\n",
      "C = 6 finished !\n",
      "C = 7 finished !\n",
      "C = 9 finished !\n",
      "C = 11 finished !\n",
      "C = 15 finished !\n",
      "C = 30 finished !\n",
      "C = 50 finished !\n",
      "C = 70 finished !\n",
      "C = 100 finished !\n",
      "Accuray: [[ 0.52021581  0.52021581  0.52021581  0.52021581  0.52021581  0.52021581\n",
      "   0.52021581]\n",
      " [ 0.52021581  0.52021581  0.52021581  0.52021581  0.52021581  0.52021581\n",
      "   0.52021581]\n",
      " [ 0.52021581  0.52021581  0.52021581  0.52021581  0.52021581  0.52021581\n",
      "   0.52021581]\n",
      " [ 0.52021581  0.52021581  0.52021581  0.52021581  0.52021581  0.52021581\n",
      "   0.52021581]\n",
      " [ 0.52021581  0.52021581  0.52021581  0.52021581  0.52021581  0.52021581\n",
      "   0.52021581]\n",
      " [ 0.52021581  0.52021581  0.52021581  0.52021581  0.52021581  0.52021581\n",
      "   0.52151451]\n",
      " [ 0.52021581  0.52021581  0.52021581  0.52021581  0.52021581  0.52021581\n",
      "   0.52021581]\n",
      " [ 0.52021581  0.52021581  0.52021581  0.52021581  0.52021581  0.52021581\n",
      "   0.52021581]\n",
      " [ 0.52021581  0.52021581  0.52021581  0.52021581  0.52021581  0.52021581\n",
      "   0.52021581]\n",
      " [ 0.52021581  0.52021581  0.52021581  0.52021581  0.52021581  0.52021581\n",
      "   0.52151451]\n",
      " [ 0.52021581  0.52021581  0.52021581  0.52021581  0.52021581  0.52021581\n",
      "   0.52021581]\n",
      " [ 0.52021581  0.52021581  0.52021581  0.52021581  0.52021581  0.52151451\n",
      "   0.52151451]\n",
      " [ 0.52021581  0.52021581  0.52021581  0.52021581  0.52021581  0.52151451\n",
      "   0.52021581]\n",
      " [ 0.52021581  0.52021581  0.52021581  0.52021581  0.52021581  0.52151451\n",
      "   0.52021581]]\n"
     ]
    }
   ],
   "source": [
    "acu_poly = np.empty(shape=(len(tuning_paras['C_poly']), len(tuning_paras['gamma_poly'])))\n",
    "\n",
    "for c in range(len(tuning_paras['C_poly'])):\n",
    "    \n",
    "    for g in range(len(tuning_paras['gamma_poly'])):\n",
    "        \n",
    "        svm_poly = svm.SVC(kernel='poly', degree=3, C=tuning_paras['C_poly'][c], gamma=tuning_paras['gamma_poly'][g])\n",
    "        # Cross-validation with K = 5\n",
    "        acu_poly[c][g] = np.mean(cross_val_score(svm_poly, train_featu, train_label, cv=5))\n",
    "        #print(\"gamma =\", tuning_paras['gamma_poly'][g], \"finished !\")\n",
    "    \n",
    "    print(\"C =\", tuning_paras['C_poly'][c], \"finished !\")\n",
    "    \n",
    "print(\"Accuray:\", acu_poly) "
   ]
  },
  {
   "cell_type": "code",
   "execution_count": 16,
   "metadata": {},
   "outputs": [
    {
     "name": "stdout",
     "output_type": "stream",
     "text": [
      "6\n",
      "0.2\n"
     ]
    }
   ],
   "source": [
    "best_c = tuning_paras['C_poly'][np.unravel_index(acu_poly.argmax(), acu_poly.shape)[0]]\n",
    "best_gamma = tuning_paras['gamma_poly'][np.unravel_index(acu_poly.argmax(), acu_poly.shape)[1]]\n",
    "print(best_c)\n",
    "print(best_gamma)"
   ]
  },
  {
   "cell_type": "code",
   "execution_count": 17,
   "metadata": {},
   "outputs": [
    {
     "name": "stdout",
     "output_type": "stream",
     "text": [
      "Time: 0:00:00.986102\n",
      "Total accuracy: 0.519637462236\n",
      "The accuracy for air_conditioner is 0.2727272727272727\n",
      "The accuracy for car_horn is 0.5714285714285714\n",
      "The accuracy for children_playing is 0.6097560975609756\n",
      "The accuracy for dog_bark is 0.5833333333333334\n",
      "The accuracy for drilling is 0.36666666666666664\n",
      "The accuracy for enginge_idling is 0.17391304347826086\n",
      "The accuracy for gun_shot is 0.7428571428571429\n",
      "The accuracy for jackhammer is 0.4166666666666667\n",
      "The accuracy for siren is 0.4\n",
      "The accuracy for street_music is 0.5111111111111111\n"
     ]
    }
   ],
   "source": [
    "start=datetime.now()\n",
    "\n",
    "svm_poly = svm.SVC(kernel='poly', C = best_c, gamma = best_gamma).fit(train_featu, train_label)\n",
    "pred_label = svm_poly.predict(test_featu)\n",
    "print (\"Time:\", datetime.now() - start)\n",
    "\n",
    "total_acu = np.sum(pred_label == test_label) / len(test_label)\n",
    "print(\"Total accuracy:\", total_acu)\n",
    "\n",
    "categories = [\"air_conditioner\", \"car_horn\", \"children_playing\",\n",
    "              \"dog_bark\", \"drilling\", \"enginge_idling\",\n",
    "              \"gun_shot\", \"jackhammer\", \"siren\", \"street_music\"]\n",
    "\n",
    "for i in range(10): \n",
    "    acu = np.sum(pred_label[test_label == i] == i) / np.sum(test_label == i)\n",
    "    print(\"The accuracy for {0} is {1}\".format(categories[i], acu))"
   ]
  },
  {
   "cell_type": "code",
   "execution_count": null,
   "metadata": {
    "collapsed": true
   },
   "outputs": [],
   "source": []
  }
 ],
 "metadata": {
  "kernelspec": {
   "display_name": "Python 3",
   "language": "python",
   "name": "python3"
  },
  "language_info": {
   "codemirror_mode": {
    "name": "ipython",
    "version": 3
   },
   "file_extension": ".py",
   "mimetype": "text/x-python",
   "name": "python",
   "nbconvert_exporter": "python",
   "pygments_lexer": "ipython3",
   "version": "3.6.2"
  }
 },
 "nbformat": 4,
 "nbformat_minor": 2
}
